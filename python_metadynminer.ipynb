{
 "cells": [
  {
   "cell_type": "code",
   "execution_count": null,
   "id": "5d591434-dccf-4632-b421-b04fb13ba0c8",
   "metadata": {
    "editable": true,
    "slideshow": {
     "slide_type": ""
    },
    "tags": []
   },
   "outputs": [],
   "source": [
    "import numpy as np\n",
    "import metadynminer as mm\n",
    "print(f\"Loaded metadynminer version {mm.__version__}.\")"
   ]
  },
  {
   "cell_type": "code",
   "execution_count": null,
   "id": "1bff99bc-f1ca-4e80-b620-50a47b4aadb8",
   "metadata": {},
   "outputs": [],
   "source": [
    "# uncomment the next line to enable %matplotlib widget for interactivity, if you want:\n",
    "# %matplotlib widget"
   ]
  },
  {
   "cell_type": "code",
   "execution_count": null,
   "id": "62a89391-18e5-4203-86fd-3eda3a238d80",
   "metadata": {
    "tags": []
   },
   "outputs": [],
   "source": [
    "# load your HILLS file \n",
    "# if the name of your HILLS file is not  the default \"HILLS\", specify it to the name keyword\n",
    "# if you don't have your own HILLS file, you can try using name=\"acealanme\", our alanin dipeptide HILLS file used for testing. \n",
    "#\n",
    "\n",
    "hills = mm.Hills(name=\"HILLS\")\n",
    "\n",
    "# Metadynminer should automatically detect if the CVs are periodic, however, if it fails to detect periodicity correctly, \n",
    "# you should specify the periodicity of your CVs as a python list \n",
    "# (for example, if you have two periodic CVs, set periodic = [True, True]) like here: \n",
    "# \n",
    "# hills = mm.Hills(name=\"HILLS\", periodic=[True, True])"
   ]
  },
  {
   "cell_type": "code",
   "execution_count": null,
   "id": "7006d903-9804-4bc9-8c8d-819cc96f4037",
   "metadata": {},
   "outputs": [],
   "source": [
    "# Calculate the free energy surface from hills file\n",
    "# decrease the resolution, if you dont need high resolution FES and/or you find the calculation too slow\n",
    "fes = mm.Fes(hills, resolution=256)"
   ]
  },
  {
   "cell_type": "code",
   "execution_count": null,
   "id": "9e1a7e4d-b281-452d-9aa2-735571978a24",
   "metadata": {},
   "outputs": [],
   "source": [
    "# identify the local minima\n",
    "# incerase nbins if you think the algorithm missed an important minimum\n",
    "minima = mm.Minima(fes, nbins=8)"
   ]
  },
  {
   "cell_type": "code",
   "execution_count": null,
   "id": "969b2add-4f83-410d-84e9-fc750e308a1b",
   "metadata": {},
   "outputs": [],
   "source": [
    "# plot the free energy surface with minima\n",
    "minima.plot(contours_spacing=20)"
   ]
  },
  {
   "cell_type": "code",
   "execution_count": null,
   "id": "fe960e4d-8a97-4657-9358-d680e847929c",
   "metadata": {},
   "outputs": [],
   "source": [
    "# print the list of local minima\n",
    "print(minima.minima)"
   ]
  },
  {
   "cell_type": "code",
   "execution_count": null,
   "id": "355f6d48-0517-421f-9d87-435873df516c",
   "metadata": {},
   "outputs": [],
   "source": [
    "# construct free energy profile\n",
    "prof = mm.FEProfile(minima,hills)\n",
    "\n",
    "# plot the free energy profile\n",
    "prof.plot(legend=True, png_name=\"fep.png\")"
   ]
  },
  {
   "cell_type": "code",
   "execution_count": null,
   "id": "73f38372-bd8e-4157-96ca-8be1cce7ef08",
   "metadata": {
    "scrolled": true
   },
   "outputs": [],
   "source": [
    "# You can remove one CV from existing surface: \n",
    "fes_CV1 = fes.removeCV(CV=2)\n",
    "# You can work with the new FES object like with a new FES: \n",
    "minima_1 = mm.Minima(fes_CV1)\n",
    "minima_1.minima"
   ]
  },
  {
   "cell_type": "code",
   "execution_count": null,
   "id": "1c214175-1d06-496c-a2df-1eeb3250aa21",
   "metadata": {},
   "outputs": [],
   "source": [
    "# ... and plot it: \n",
    "minima_1.plot()"
   ]
  },
  {
   "cell_type": "code",
   "execution_count": null,
   "id": "cd293e02-f560-47d5-a5f4-ef153528adbd",
   "metadata": {},
   "outputs": [],
   "source": [
    "# You can visualize 2D FES as surface plot: \n",
    "fes.surface_plot()"
   ]
  },
  {
   "cell_type": "code",
   "execution_count": null,
   "id": "ff07c3d1-0418-4e13-950f-6f527ba1108a",
   "metadata": {},
   "outputs": [],
   "source": [
    "# You can calculate the FES using slower, but exact algorithm with the \"original\" keyword and plot it: \n",
    "fes2 = mm.Fes(hills, resolution=256, original = True)\n",
    "fes2.plot(contours_spacing = 10)"
   ]
  },
  {
   "cell_type": "code",
   "execution_count": null,
   "id": "6d613dd8-88c2-4f86-a896-1ebc3b4a12b6",
   "metadata": {},
   "outputs": [],
   "source": [
    "# It is also possible to make animation of the flooding of FES during the simulation\n",
    "fes.flooding_animation(step=1000, gif_name = \"flooding.gif\", fps=10, enable_loop=True, contours_spacing=10, with_minima=True, use_vmax_from_end=False)"
   ]
  },
  {
   "cell_type": "markdown",
   "id": "f1c0752e-86ca-41c2-9caa-21c7bbf80fbd",
   "metadata": {},
   "source": [
    "<img src=\"flooding.gif\" width=\"750\" align=\"center\">"
   ]
  }
 ],
 "metadata": {
  "kernelspec": {
   "display_name": "base",
   "language": "python",
   "name": "base"
  },
  "language_info": {
   "codemirror_mode": {
    "name": "ipython",
    "version": 3
   },
   "file_extension": ".py",
   "mimetype": "text/x-python",
   "name": "python",
   "nbconvert_exporter": "python",
   "pygments_lexer": "ipython3",
   "version": "3.11.6"
  },
  "toc-autonumbering": true,
  "toc-showcode": false,
  "toc-showmarkdowntxt": true
 },
 "nbformat": 4,
 "nbformat_minor": 5
}
